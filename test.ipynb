{
 "cells": [
  {
   "cell_type": "code",
   "execution_count": 4,
   "metadata": {},
   "outputs": [],
   "source": [
    "import json"
   ]
  },
  {
   "cell_type": "code",
   "execution_count": 12,
   "metadata": {},
   "outputs": [],
   "source": [
    "import xml.etree.ElementTree as ET\n",
    "with open(\"list.opml\",\"r\") as f:\n",
    "    root = ET.fromstring(f.read())\n",
    "\n",
    "data = []\n",
    "\n",
    "for outline in root[1][0]:\n",
    "    data.append(outline.attrib)"
   ]
  },
  {
   "cell_type": "code",
   "execution_count": null,
   "metadata": {},
   "outputs": [],
   "source": [
    "data"
   ]
  },
  {
   "cell_type": "code",
   "execution_count": 5,
   "metadata": {},
   "outputs": [],
   "source": [
    "with open(\"list.json\",\"r\") as f:\n",
    "    data = json.load(f)"
   ]
  },
  {
   "cell_type": "code",
   "execution_count": 6,
   "metadata": {},
   "outputs": [
    {
     "data": {
      "text/plain": [
       "1229"
      ]
     },
     "execution_count": 6,
     "metadata": {},
     "output_type": "execute_result"
    }
   ],
   "source": [
    "len(data)"
   ]
  },
  {
   "cell_type": "code",
   "execution_count": 7,
   "metadata": {},
   "outputs": [],
   "source": [
    "rss_links = [link[\"htmlUrl\"] for link in data]"
   ]
  },
  {
   "cell_type": "code",
   "execution_count": null,
   "metadata": {},
   "outputs": [],
   "source": [
    "rss_links"
   ]
  },
  {
   "cell_type": "code",
   "execution_count": 2,
   "metadata": {},
   "outputs": [],
   "source": [
    "def removeRSS(link):\n",
    "    bar = link.find('/',8)\n",
    "    qm = link.find('?',8)\n",
    "    domain_end = min(bar,qm)\n",
    "    if (bar==-1 or qm==-1):\n",
    "        domain_end = max(bar,qm)\n",
    "    domain = link[8:domain_end]\n",
    "    if \"medium\" in domain:\n",
    "        return \"\"\n",
    "    elif \"youtube\" in domain:\n",
    "        return \"\"\n",
    "    return domain\n",
    "    # TODO figure out path for medium like websites\n",
    "    # path_str = link[domain_end+1:]\n",
    "    # path = path_str.split('/')"
   ]
  },
  {
   "cell_type": "code",
   "execution_count": 1,
   "metadata": {},
   "outputs": [],
   "source": [
    "header = \"\"\"\n",
    "! name: Hackernews Personal Blogs\n",
    "! description: Personal blogs of Hackernews users\n",
    "! homepage: https://github.com/andrei-akopian/BraveHNBlogsGoggle\n",
    "! license: MIT License\n",
    "! public: true\n",
    "! author: AA\n",
    "! avatar: #db6b20\n",
    "\n",
    "$discard\n",
    "$downrank,site=medium.com\n",
    "$downrank,site=youtube.com\n",
    "\"\"\""
   ]
  },
  {
   "cell_type": "code",
   "execution_count": 8,
   "metadata": {},
   "outputs": [],
   "source": [
    "google = header\n",
    "for link in rss_links:\n",
    "    link = removeRSS(link)\n",
    "    if (link != \"\"):\n",
    "        google+=\"$boost=3,site=\"+link+\"\\n\""
   ]
  },
  {
   "cell_type": "code",
   "execution_count": 9,
   "metadata": {},
   "outputs": [],
   "source": [
    "with open(\"hackernews_personal_blogs.goggle\",\"w\") as f:\n",
    "    f.write(google)"
   ]
  }
 ],
 "metadata": {
  "kernelspec": {
   "display_name": "base",
   "language": "python",
   "name": "python3"
  },
  "language_info": {
   "codemirror_mode": {
    "name": "ipython",
    "version": 3
   },
   "file_extension": ".py",
   "mimetype": "text/x-python",
   "name": "python",
   "nbconvert_exporter": "python",
   "pygments_lexer": "ipython3",
   "version": "3.12.2"
  }
 },
 "nbformat": 4,
 "nbformat_minor": 2
}
